{
 "cells": [
  {
   "cell_type": "code",
   "execution_count": 1,
   "metadata": {},
   "outputs": [
    {
     "name": "stderr",
     "output_type": "stream",
     "text": [
      "C:\\Users\\RITIKAA\\Anaconda3\\lib\\site-packages\\tensorflow\\python\\framework\\dtypes.py:516: FutureWarning: Passing (type, 1) or '1type' as a synonym of type is deprecated; in a future version of numpy, it will be understood as (type, (1,)) / '(1,)type'.\n",
      "  _np_qint8 = np.dtype([(\"qint8\", np.int8, 1)])\n",
      "C:\\Users\\RITIKAA\\Anaconda3\\lib\\site-packages\\tensorflow\\python\\framework\\dtypes.py:517: FutureWarning: Passing (type, 1) or '1type' as a synonym of type is deprecated; in a future version of numpy, it will be understood as (type, (1,)) / '(1,)type'.\n",
      "  _np_quint8 = np.dtype([(\"quint8\", np.uint8, 1)])\n",
      "C:\\Users\\RITIKAA\\Anaconda3\\lib\\site-packages\\tensorflow\\python\\framework\\dtypes.py:518: FutureWarning: Passing (type, 1) or '1type' as a synonym of type is deprecated; in a future version of numpy, it will be understood as (type, (1,)) / '(1,)type'.\n",
      "  _np_qint16 = np.dtype([(\"qint16\", np.int16, 1)])\n",
      "C:\\Users\\RITIKAA\\Anaconda3\\lib\\site-packages\\tensorflow\\python\\framework\\dtypes.py:519: FutureWarning: Passing (type, 1) or '1type' as a synonym of type is deprecated; in a future version of numpy, it will be understood as (type, (1,)) / '(1,)type'.\n",
      "  _np_quint16 = np.dtype([(\"quint16\", np.uint16, 1)])\n",
      "C:\\Users\\RITIKAA\\Anaconda3\\lib\\site-packages\\tensorflow\\python\\framework\\dtypes.py:520: FutureWarning: Passing (type, 1) or '1type' as a synonym of type is deprecated; in a future version of numpy, it will be understood as (type, (1,)) / '(1,)type'.\n",
      "  _np_qint32 = np.dtype([(\"qint32\", np.int32, 1)])\n",
      "C:\\Users\\RITIKAA\\Anaconda3\\lib\\site-packages\\tensorflow\\python\\framework\\dtypes.py:525: FutureWarning: Passing (type, 1) or '1type' as a synonym of type is deprecated; in a future version of numpy, it will be understood as (type, (1,)) / '(1,)type'.\n",
      "  np_resource = np.dtype([(\"resource\", np.ubyte, 1)])\n",
      "C:\\Users\\RITIKAA\\Anaconda3\\lib\\site-packages\\tensorboard\\compat\\tensorflow_stub\\dtypes.py:541: FutureWarning: Passing (type, 1) or '1type' as a synonym of type is deprecated; in a future version of numpy, it will be understood as (type, (1,)) / '(1,)type'.\n",
      "  _np_qint8 = np.dtype([(\"qint8\", np.int8, 1)])\n",
      "C:\\Users\\RITIKAA\\Anaconda3\\lib\\site-packages\\tensorboard\\compat\\tensorflow_stub\\dtypes.py:542: FutureWarning: Passing (type, 1) or '1type' as a synonym of type is deprecated; in a future version of numpy, it will be understood as (type, (1,)) / '(1,)type'.\n",
      "  _np_quint8 = np.dtype([(\"quint8\", np.uint8, 1)])\n",
      "C:\\Users\\RITIKAA\\Anaconda3\\lib\\site-packages\\tensorboard\\compat\\tensorflow_stub\\dtypes.py:543: FutureWarning: Passing (type, 1) or '1type' as a synonym of type is deprecated; in a future version of numpy, it will be understood as (type, (1,)) / '(1,)type'.\n",
      "  _np_qint16 = np.dtype([(\"qint16\", np.int16, 1)])\n",
      "C:\\Users\\RITIKAA\\Anaconda3\\lib\\site-packages\\tensorboard\\compat\\tensorflow_stub\\dtypes.py:544: FutureWarning: Passing (type, 1) or '1type' as a synonym of type is deprecated; in a future version of numpy, it will be understood as (type, (1,)) / '(1,)type'.\n",
      "  _np_quint16 = np.dtype([(\"quint16\", np.uint16, 1)])\n",
      "C:\\Users\\RITIKAA\\Anaconda3\\lib\\site-packages\\tensorboard\\compat\\tensorflow_stub\\dtypes.py:545: FutureWarning: Passing (type, 1) or '1type' as a synonym of type is deprecated; in a future version of numpy, it will be understood as (type, (1,)) / '(1,)type'.\n",
      "  _np_qint32 = np.dtype([(\"qint32\", np.int32, 1)])\n",
      "C:\\Users\\RITIKAA\\Anaconda3\\lib\\site-packages\\tensorboard\\compat\\tensorflow_stub\\dtypes.py:550: FutureWarning: Passing (type, 1) or '1type' as a synonym of type is deprecated; in a future version of numpy, it will be understood as (type, (1,)) / '(1,)type'.\n",
      "  np_resource = np.dtype([(\"resource\", np.ubyte, 1)])\n"
     ]
    }
   ],
   "source": [
    "from tensorflow.keras.models import Sequential\n",
    "from tensorflow.keras.layers import Dense\n",
    "from tensorflow.keras.layers import Convolution2D\n",
    "from tensorflow.keras.layers import MaxPooling2D\n",
    "from tensorflow.keras.layers import Flatten"
   ]
  },
  {
   "cell_type": "code",
   "execution_count": 2,
   "metadata": {},
   "outputs": [
    {
     "name": "stderr",
     "output_type": "stream",
     "text": [
      "Using TensorFlow backend.\n"
     ]
    }
   ],
   "source": [
    "from keras.preprocessing.image import ImageDataGenerator\n",
    "train_data=ImageDataGenerator(rescale=1./255,shear_range=0.3,zoom_range=0.2,horizontal_flip=True)\n",
    "test_data=ImageDataGenerator(rescale=1./255)"
   ]
  },
  {
   "cell_type": "code",
   "execution_count": 3,
   "metadata": {},
   "outputs": [
    {
     "name": "stdout",
     "output_type": "stream",
     "text": [
      "Found 2325 images belonging to 5 classes.\n",
      "Found 779 images belonging to 5 classes.\n"
     ]
    }
   ],
   "source": [
    "x_train=train_data.flow_from_directory(r\"E:\\Externship\\Fruitdata\\train\",target_size=(64,64),batch_size=35,class_mode=\"categorical\")\n",
    "x_test=test_data.flow_from_directory(r\"E:\\Externship\\Fruitdata\\test\",target_size=(64,64),batch_size=35,class_mode=\"categorical\")"
   ]
  },
  {
   "cell_type": "code",
   "execution_count": 4,
   "metadata": {},
   "outputs": [],
   "source": [
    "model=Sequential()"
   ]
  },
  {
   "cell_type": "code",
   "execution_count": 5,
   "metadata": {},
   "outputs": [
    {
     "name": "stdout",
     "output_type": "stream",
     "text": [
      "WARNING:tensorflow:From C:\\Users\\RITIKAA\\Anaconda3\\lib\\site-packages\\tensorflow\\python\\ops\\init_ops.py:1251: calling VarianceScaling.__init__ (from tensorflow.python.ops.init_ops) with dtype is deprecated and will be removed in a future version.\n",
      "Instructions for updating:\n",
      "Call initializer instance with the dtype argument instead of passing it to the constructor\n"
     ]
    }
   ],
   "source": [
    "model.add(Convolution2D(35,(3,3),input_shape=(64,64,3),activation=\"relu\"))"
   ]
  },
  {
   "cell_type": "code",
   "execution_count": 6,
   "metadata": {},
   "outputs": [],
   "source": [
    "model.add(MaxPooling2D(2,2))"
   ]
  },
  {
   "cell_type": "code",
   "execution_count": 7,
   "metadata": {},
   "outputs": [],
   "source": [
    "model.add(Flatten())"
   ]
  },
  {
   "cell_type": "code",
   "execution_count": 8,
   "metadata": {},
   "outputs": [
    {
     "name": "stdout",
     "output_type": "stream",
     "text": [
      "WARNING:tensorflow:From C:\\Users\\RITIKAA\\Anaconda3\\lib\\site-packages\\tensorflow\\python\\keras\\initializers.py:119: calling RandomUniform.__init__ (from tensorflow.python.ops.init_ops) with dtype is deprecated and will be removed in a future version.\n",
      "Instructions for updating:\n",
      "Call initializer instance with the dtype argument instead of passing it to the constructor\n"
     ]
    }
   ],
   "source": [
    "model.add(Dense(units=550,activation=\"relu\",kernel_initializer=\"random_uniform\"))"
   ]
  },
  {
   "cell_type": "code",
   "execution_count": 9,
   "metadata": {},
   "outputs": [],
   "source": [
    "model.add(Dense(units=5,activation=\"softmax\",kernel_initializer=\"random_uniform\"))"
   ]
  },
  {
   "cell_type": "code",
   "execution_count": 10,
   "metadata": {},
   "outputs": [],
   "source": [
    "model.compile(\"sgd\",loss=\"categorical_crossentropy\",metrics=[\"accuracy\"])"
   ]
  },
  {
   "cell_type": "code",
   "execution_count": 11,
   "metadata": {},
   "outputs": [
    {
     "name": "stdout",
     "output_type": "stream",
     "text": [
      "Epoch 1/19\n",
      "47/47 [==============================] - 26s 551ms/step - loss: 1.1235 - acc: 0.5852 - val_loss: 0.9370 - val_acc: 0.7143\n",
      "Epoch 2/19\n",
      "47/47 [==============================] - 25s 536ms/step - loss: 0.5427 - acc: 0.7982 - val_loss: 0.5887 - val_acc: 0.7671\n",
      "Epoch 3/19\n",
      "47/47 [==============================] - 26s 553ms/step - loss: 0.3274 - acc: 0.8906 - val_loss: 0.5982 - val_acc: 0.7757\n",
      "Epoch 4/19\n",
      "47/47 [==============================] - 24s 521ms/step - loss: 0.2462 - acc: 0.9194 - val_loss: 0.2918 - val_acc: 0.9286\n",
      "Epoch 5/19\n",
      "47/47 [==============================] - 24s 511ms/step - loss: 0.1795 - acc: 0.9434 - val_loss: 0.1701 - val_acc: 0.9700\n",
      "Epoch 6/19\n",
      "47/47 [==============================] - 25s 529ms/step - loss: 0.1163 - acc: 0.9708 - val_loss: 0.1507 - val_acc: 0.9743\n",
      "Epoch 7/19\n",
      "47/47 [==============================] - 25s 532ms/step - loss: 0.1071 - acc: 0.9815 - val_loss: 0.0910 - val_acc: 0.9971\n",
      "Epoch 8/19\n",
      "47/47 [==============================] - 25s 524ms/step - loss: 0.0726 - acc: 0.9852 - val_loss: 0.1134 - val_acc: 0.9657\n",
      "Epoch 9/19\n",
      "47/47 [==============================] - 25s 526ms/step - loss: 0.0614 - acc: 0.9860 - val_loss: 0.0737 - val_acc: 0.9957\n",
      "Epoch 10/19\n",
      "47/47 [==============================] - 23s 497ms/step - loss: 0.0568 - acc: 0.9877 - val_loss: 0.0608 - val_acc: 0.9914\n",
      "Epoch 11/19\n",
      "47/47 [==============================] - 25s 523ms/step - loss: 0.0459 - acc: 0.9915 - val_loss: 0.0605 - val_acc: 0.9886\n",
      "Epoch 12/19\n",
      "47/47 [==============================] - 24s 508ms/step - loss: 0.0380 - acc: 0.9944 - val_loss: 0.0493 - val_acc: 0.9957\n",
      "Epoch 13/19\n",
      "47/47 [==============================] - 24s 519ms/step - loss: 0.0380 - acc: 0.9933 - val_loss: 0.0502 - val_acc: 1.0000\n",
      "Epoch 14/19\n",
      "47/47 [==============================] - 24s 520ms/step - loss: 0.0304 - acc: 0.9945 - val_loss: 0.0734 - val_acc: 0.9943\n",
      "Epoch 15/19\n",
      "47/47 [==============================] - 25s 529ms/step - loss: 0.0309 - acc: 0.9957 - val_loss: 0.0983 - val_acc: 0.9929\n",
      "Epoch 16/19\n",
      "47/47 [==============================] - 24s 519ms/step - loss: 0.0235 - acc: 0.9982 - val_loss: 0.0473 - val_acc: 1.0000\n",
      "Epoch 17/19\n",
      "47/47 [==============================] - 25s 525ms/step - loss: 0.0226 - acc: 0.9969 - val_loss: 0.0322 - val_acc: 1.0000\n",
      "Epoch 18/19\n",
      "47/47 [==============================] - 25s 523ms/step - loss: 0.0183 - acc: 0.9994 - val_loss: 0.0363 - val_acc: 1.0000\n",
      "Epoch 19/19\n",
      "47/47 [==============================] - 24s 513ms/step - loss: 0.0247 - acc: 0.9950 - val_loss: 0.0296 - val_acc: 0.9900\n"
     ]
    },
    {
     "data": {
      "text/plain": [
       "<tensorflow.python.keras.callbacks.History at 0x2006ccbc438>"
      ]
     },
     "execution_count": 11,
     "metadata": {},
     "output_type": "execute_result"
    }
   ],
   "source": [
    "model.fit_generator(x_train,steps_per_epoch=47,epochs=19,validation_data=x_test, validation_steps=20)\n",
    "#steps for epoch=\n",
    "#validation steps="
   ]
  },
  {
   "cell_type": "code",
   "execution_count": 12,
   "metadata": {},
   "outputs": [],
   "source": [
    "model.save(\"Fruits.h5\") "
   ]
  },
  {
   "cell_type": "code",
   "execution_count": null,
   "metadata": {},
   "outputs": [],
   "source": []
  }
 ],
 "metadata": {
  "kernelspec": {
   "display_name": "Python 3",
   "language": "python",
   "name": "python3"
  },
  "language_info": {
   "codemirror_mode": {
    "name": "ipython",
    "version": 3
   },
   "file_extension": ".py",
   "mimetype": "text/x-python",
   "name": "python",
   "nbconvert_exporter": "python",
   "pygments_lexer": "ipython3",
   "version": "3.7.3"
  }
 },
 "nbformat": 4,
 "nbformat_minor": 2
}
